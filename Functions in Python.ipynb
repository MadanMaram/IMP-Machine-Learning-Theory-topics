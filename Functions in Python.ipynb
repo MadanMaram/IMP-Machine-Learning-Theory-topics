{
 "cells": [
  {
   "cell_type": "markdown",
   "metadata": {},
   "source": [
    "- FUNCTIONS\n",
    "- Python Function\n",
    "- Function Argument\n",
    "- Python Recursion\n",
    "- Anonymous Function\n",
    "- Python Global, Local and Nonlocal\n"
   ]
  },
  {
   "cell_type": "markdown",
   "metadata": {},
   "source": [
    "## Function\n",
    "- function is a collection of statements which perform an operation.\n",
    "- to define a function we use 'Def' keyword\n",
    "- the function which is defined once can called multiple times\n",
    "\n",
    "### Advantages\n",
    "- code reusability\n",
    "- easy to modify\n",
    "- easy to debug"
   ]
  },
  {
   "cell_type": "markdown",
   "metadata": {},
   "source": [
    "# in python we can define function in 4-ways\n",
    "- function without argument and without return(0,0)\n",
    "- function with argument and without return(1,0)\n",
    "- function without argument and with return(0,1)\n",
    "- function with argument and with return(1,1)"
   ]
  },
  {
   "cell_type": "code",
   "execution_count": 90,
   "metadata": {},
   "outputs": [
    {
     "name": "stdout",
     "output_type": "stream",
     "text": [
      "30\n"
     ]
    }
   ],
   "source": [
    "#function without argument and without return(0,0)\n",
    "def add():\n",
    "    a,b=10,20\n",
    "    print(a+b)\n",
    "add()"
   ]
  },
  {
   "cell_type": "code",
   "execution_count": 93,
   "metadata": {},
   "outputs": [
    {
     "name": "stdout",
     "output_type": "stream",
     "text": [
      "120\n"
     ]
    }
   ],
   "source": [
    "#function with argument and without return(1,0)\n",
    "def add(a,b):\n",
    "    print(a+b)\n",
    "add(100,20)"
   ]
  },
  {
   "cell_type": "code",
   "execution_count": 95,
   "metadata": {},
   "outputs": [
    {
     "name": "stdout",
     "output_type": "stream",
     "text": [
      "30\n",
      "30\n"
     ]
    }
   ],
   "source": [
    "#function without argument and with return(0,1)\n",
    "def add():\n",
    "    a=10\n",
    "    b=20\n",
    "    return a+b\n",
    "x=add()\n",
    "print(x)\n",
    "print(add())"
   ]
  },
  {
   "cell_type": "code",
   "execution_count": 97,
   "metadata": {},
   "outputs": [
    {
     "name": "stdout",
     "output_type": "stream",
     "text": [
      "30\n"
     ]
    }
   ],
   "source": [
    "#function with argument and with return(1,1)\n",
    "def add(a,b):\n",
    "    return a+b\n",
    "x=add(10,20)\n",
    "print(x)"
   ]
  },
  {
   "cell_type": "code",
   "execution_count": 102,
   "metadata": {},
   "outputs": [
    {
     "name": "stdout",
     "output_type": "stream",
     "text": [
      "30\n",
      "-10\n",
      "200\n",
      "0.5\n"
     ]
    }
   ],
   "source": [
    "def div(a,b):\n",
    "    mul(10,20)\n",
    "    return a/b\n",
    "def mul(a,b):\n",
    "    sub(10,20)\n",
    "    print(a*b)\n",
    "def sub(a,b):\n",
    "    add(10,20)\n",
    "    print(a-b)\n",
    "def add(a,b):\n",
    "    print(a+b)\n",
    "x=div(10,20)\n",
    "print(x)"
   ]
  },
  {
   "cell_type": "code",
   "execution_count": null,
   "metadata": {},
   "outputs": [],
   "source": []
  },
  {
   "cell_type": "code",
   "execution_count": 181,
   "metadata": {},
   "outputs": [
    {
     "name": "stdout",
     "output_type": "stream",
     "text": [
      "iam lazy\n",
      "don't give works to me\n",
      "iam lazy\n",
      "don't give works to me\n"
     ]
    }
   ],
   "source": [
    "def call():\n",
    "    print(\"iam lazy\")\n",
    "    print(\"don't give works to me\")\n",
    "call()\n",
    "call()"
   ]
  },
  {
   "cell_type": "code",
   "execution_count": null,
   "metadata": {},
   "outputs": [],
   "source": []
  },
  {
   "cell_type": "code",
   "execution_count": 170,
   "metadata": {},
   "outputs": [
    {
     "name": "stdout",
     "output_type": "stream",
     "text": [
      "i am display\n",
      "my age\n",
      "16\n"
     ]
    }
   ],
   "source": [
    "def displ(a=2,b=7,c=7):\n",
    "    print('i am display')\n",
    "    print('my age')\n",
    "    k=a+b+c\n",
    "    print(k)\n",
    "displ()"
   ]
  },
  {
   "cell_type": "code",
   "execution_count": 175,
   "metadata": {},
   "outputs": [
    {
     "name": "stdout",
     "output_type": "stream",
     "text": [
      "i am display\n",
      "my age\n",
      "16\n"
     ]
    }
   ],
   "source": [
    "def displ():\n",
    "    print('i am display')\n",
    "    print('my age')\n",
    "    k=2+5+9 \n",
    "    print(k)\n",
    "displ()"
   ]
  },
  {
   "cell_type": "code",
   "execution_count": 82,
   "metadata": {},
   "outputs": [
    {
     "name": "stdout",
     "output_type": "stream",
     "text": [
      "iam ok\n",
      "8\n",
      "iam not ok\n",
      "iam ok\n"
     ]
    }
   ],
   "source": [
    "def fun1():\n",
    "    \n",
    "    print('iam ok')\n",
    "    \n",
    "def fun2(a,b):\n",
    "    c=a+b\n",
    "    print(c)\n",
    "    print('iam not ok')\n",
    "    fun1()\n",
    "fun1()\n",
    "fun2(3,5)"
   ]
  },
  {
   "cell_type": "code",
   "execution_count": 85,
   "metadata": {},
   "outputs": [
    {
     "name": "stdout",
     "output_type": "stream",
     "text": [
      "iam ok\n"
     ]
    },
    {
     "data": {
      "text/plain": [
       "8"
      ]
     },
     "execution_count": 85,
     "metadata": {},
     "output_type": "execute_result"
    }
   ],
   "source": [
    "def fun1():\n",
    "    \n",
    "    print('iam ok')\n",
    "    \n",
    "def fun2(a,b):\n",
    "    c=a+b\n",
    "    return c #return will back to the called function below\n",
    "    print('iam not ok')\n",
    "    fun1()\n",
    "fun1()\n",
    "fun2(3,5)"
   ]
  },
  {
   "cell_type": "code",
   "execution_count": 194,
   "metadata": {
    "scrolled": true
   },
   "outputs": [
    {
     "name": "stdout",
     "output_type": "stream",
     "text": [
      "i am\n"
     ]
    }
   ],
   "source": [
    "def disp(a,b):\n",
    "    c=a+b\n",
    "    return c\n",
    "      #return will back to the called function below\n",
    "disp(\"iam \",'always no 1')\n",
    "print(\"i am\")"
   ]
  },
  {
   "cell_type": "code",
   "execution_count": 197,
   "metadata": {},
   "outputs": [
    {
     "name": "stdout",
     "output_type": "stream",
     "text": [
      "iam always no 1\n"
     ]
    },
    {
     "data": {
      "text/plain": [
       "'iam always no 1'"
      ]
     },
     "execution_count": 197,
     "metadata": {},
     "output_type": "execute_result"
    }
   ],
   "source": [
    "def disp(a,b):\n",
    "    c=a+b\n",
    "    print(c)\n",
    "    return c\n",
    "      #return will back to the called function below\n",
    "disp(\"iam \",'always no 1')\n"
   ]
  },
  {
   "cell_type": "code",
   "execution_count": 9,
   "metadata": {},
   "outputs": [
    {
     "name": "stdout",
     "output_type": "stream",
     "text": [
      "9\n"
     ]
    }
   ],
   "source": [
    "def call():\n",
    "    print(\"iam lazy\")\n",
    "    print(\"don't give works to me\")\n",
    "def rock(x,y):\n",
    "    a=x+y\n",
    "    print(a)\n",
    "rock(4,5)"
   ]
  },
  {
   "cell_type": "code",
   "execution_count": 13,
   "metadata": {},
   "outputs": [
    {
     "name": "stdout",
     "output_type": "stream",
     "text": [
      "9\n",
      "iam lazy\n",
      "don't give works to me\n"
     ]
    }
   ],
   "source": [
    "def call():\n",
    "    print(\"iam lazy\")\n",
    "    print(\"don't give works to me\")\n",
    "def rock(x,y):\n",
    "    a=(x+y)\n",
    "    print(a)\n",
    "rock(4,5)\n",
    "call()"
   ]
  },
  {
   "cell_type": "code",
   "execution_count": 20,
   "metadata": {},
   "outputs": [
    {
     "name": "stdout",
     "output_type": "stream",
     "text": [
      "-1\n"
     ]
    }
   ],
   "source": [
    "def pyth(x,y):\n",
    "    s=(x-y)\n",
    "    print(s)\n",
    "pyth(3,4)"
   ]
  },
  {
   "cell_type": "code",
   "execution_count": 36,
   "metadata": {},
   "outputs": [
    {
     "name": "stdout",
     "output_type": "stream",
     "text": [
      "7\n",
      "4\n"
     ]
    }
   ],
   "source": [
    "def rock(x,y):\n",
    "    a=x+y\n",
    "    print(a)\n",
    "    \n",
    "rock(2,5)\n",
    "rock(2,2)"
   ]
  },
  {
   "cell_type": "code",
   "execution_count": 2,
   "metadata": {},
   "outputs": [
    {
     "name": "stdout",
     "output_type": "stream",
     "text": [
      "hi\n"
     ]
    },
    {
     "ename": "RecursionError",
     "evalue": "maximum recursion depth exceeded",
     "output_type": "error",
     "traceback": [
      "\u001b[0;31m---------------------------------------------------------------------------\u001b[0m",
      "\u001b[0;31mRecursionError\u001b[0m                            Traceback (most recent call last)",
      "\u001b[0;32m<ipython-input-2-cb787b6bbefd>\u001b[0m in \u001b[0;36m<module>\u001b[0;34m\u001b[0m\n\u001b[1;32m      5\u001b[0m \u001b[0;34m\u001b[0m\u001b[0m\n\u001b[1;32m      6\u001b[0m \u001b[0mprint\u001b[0m\u001b[0;34m(\u001b[0m\u001b[0;34m'hi'\u001b[0m\u001b[0;34m)\u001b[0m\u001b[0;34m\u001b[0m\u001b[0;34m\u001b[0m\u001b[0m\n\u001b[0;32m----> 7\u001b[0;31m \u001b[0madd\u001b[0m\u001b[0;34m(\u001b[0m\u001b[0;36m3\u001b[0m\u001b[0;34m,\u001b[0m\u001b[0;36m2\u001b[0m\u001b[0;34m)\u001b[0m\u001b[0;34m\u001b[0m\u001b[0;34m\u001b[0m\u001b[0m\n\u001b[0m",
      "\u001b[0;32m<ipython-input-2-cb787b6bbefd>\u001b[0m in \u001b[0;36madd\u001b[0;34m(x, y)\u001b[0m\n\u001b[1;32m      1\u001b[0m \u001b[0;32mdef\u001b[0m \u001b[0madd\u001b[0m\u001b[0;34m(\u001b[0m\u001b[0mx\u001b[0m\u001b[0;34m,\u001b[0m\u001b[0my\u001b[0m\u001b[0;34m)\u001b[0m\u001b[0;34m:\u001b[0m\u001b[0;34m\u001b[0m\u001b[0;34m\u001b[0m\u001b[0m\n\u001b[1;32m      2\u001b[0m     \u001b[0ma\u001b[0m\u001b[0;34m=\u001b[0m\u001b[0mx\u001b[0m\u001b[0;34m+\u001b[0m\u001b[0my\u001b[0m\u001b[0;34m\u001b[0m\u001b[0;34m\u001b[0m\u001b[0m\n\u001b[0;32m----> 3\u001b[0;31m     \u001b[0madd\u001b[0m\u001b[0;34m(\u001b[0m\u001b[0;36m1\u001b[0m\u001b[0;34m,\u001b[0m\u001b[0;36m1\u001b[0m\u001b[0;34m)\u001b[0m\u001b[0;34m\u001b[0m\u001b[0;34m\u001b[0m\u001b[0m\n\u001b[0m\u001b[1;32m      4\u001b[0m     \u001b[0;32mreturn\u001b[0m \u001b[0ma\u001b[0m\u001b[0;34m\u001b[0m\u001b[0;34m\u001b[0m\u001b[0m\n\u001b[1;32m      5\u001b[0m \u001b[0;34m\u001b[0m\u001b[0m\n",
      "... last 1 frames repeated, from the frame below ...\n",
      "\u001b[0;32m<ipython-input-2-cb787b6bbefd>\u001b[0m in \u001b[0;36madd\u001b[0;34m(x, y)\u001b[0m\n\u001b[1;32m      1\u001b[0m \u001b[0;32mdef\u001b[0m \u001b[0madd\u001b[0m\u001b[0;34m(\u001b[0m\u001b[0mx\u001b[0m\u001b[0;34m,\u001b[0m\u001b[0my\u001b[0m\u001b[0;34m)\u001b[0m\u001b[0;34m:\u001b[0m\u001b[0;34m\u001b[0m\u001b[0;34m\u001b[0m\u001b[0m\n\u001b[1;32m      2\u001b[0m     \u001b[0ma\u001b[0m\u001b[0;34m=\u001b[0m\u001b[0mx\u001b[0m\u001b[0;34m+\u001b[0m\u001b[0my\u001b[0m\u001b[0;34m\u001b[0m\u001b[0;34m\u001b[0m\u001b[0m\n\u001b[0;32m----> 3\u001b[0;31m     \u001b[0madd\u001b[0m\u001b[0;34m(\u001b[0m\u001b[0;36m1\u001b[0m\u001b[0;34m,\u001b[0m\u001b[0;36m1\u001b[0m\u001b[0;34m)\u001b[0m\u001b[0;34m\u001b[0m\u001b[0;34m\u001b[0m\u001b[0m\n\u001b[0m\u001b[1;32m      4\u001b[0m     \u001b[0;32mreturn\u001b[0m \u001b[0ma\u001b[0m\u001b[0;34m\u001b[0m\u001b[0;34m\u001b[0m\u001b[0m\n\u001b[1;32m      5\u001b[0m \u001b[0;34m\u001b[0m\u001b[0m\n",
      "\u001b[0;31mRecursionError\u001b[0m: maximum recursion depth exceeded"
     ]
    }
   ],
   "source": [
    "def add(x,y):\n",
    "    a=x+y\n",
    "    add(1,1)\n",
    "    return a\n",
    "   \n",
    "print('hi')\n",
    "add(3,2)"
   ]
  },
  {
   "cell_type": "code",
   "execution_count": 39,
   "metadata": {},
   "outputs": [
    {
     "name": "stdout",
     "output_type": "stream",
     "text": [
      "3\n"
     ]
    }
   ],
   "source": [
    "def sas(x,y):\n",
    "    a=x+y\n",
    "    return a\n",
    "\n",
    "result=sas(2,1)\n",
    "print(result)"
   ]
  },
  {
   "cell_type": "code",
   "execution_count": 204,
   "metadata": {},
   "outputs": [
    {
     "name": "stdout",
     "output_type": "stream",
     "text": [
      "25\n",
      "-5\n"
     ]
    }
   ],
   "source": [
    "def sas(x,y):\n",
    "    a=x+y\n",
    "    b=x-y\n",
    "    return a,b\n",
    "\n",
    "result1,result2=sas(10,15)\n",
    "print(result1)\n",
    "print(result2)"
   ]
  },
  {
   "cell_type": "code",
   "execution_count": 66,
   "metadata": {},
   "outputs": [
    {
     "name": "stdout",
     "output_type": "stream",
     "text": [
      "code\n",
      "64\n"
     ]
    }
   ],
   "source": [
    "def cube(num):\n",
    "    return num*num*num\n",
    "print('code')\n",
    "print(cube(4))\n",
    "    "
   ]
  },
  {
   "cell_type": "code",
   "execution_count": 206,
   "metadata": {},
   "outputs": [
    {
     "data": {
      "text/plain": [
       "20"
      ]
     },
     "execution_count": 206,
     "metadata": {},
     "output_type": "execute_result"
    }
   ],
   "source": [
    "def cube(num):\n",
    "    x=num+num\n",
    "    return x\n",
    "print(cube(10))"
   ]
  },
  {
   "cell_type": "code",
   "execution_count": 222,
   "metadata": {},
   "outputs": [
    {
     "name": "stdout",
     "output_type": "stream",
     "text": [
      "t\n",
      "this\n",
      "h\n",
      "this\n",
      "i\n",
      "this\n",
      "s\n",
      "this\n"
     ]
    }
   ],
   "source": [
    "def sae(saii):\n",
    "    for sae in saii:\n",
    "        print(sae)\n",
    "        print(saii)\n",
    "sae('this')   "
   ]
  },
  {
   "cell_type": "code",
   "execution_count": 218,
   "metadata": {},
   "outputs": [
    {
     "name": "stdout",
     "output_type": "stream",
     "text": [
      "this\n",
      "is\n"
     ]
    }
   ],
   "source": [
    "def sae(*saii):\n",
    "    for sae in saii:\n",
    "        print(sae)\n",
    "sae('this','is')   "
   ]
  },
  {
   "cell_type": "code",
   "execution_count": 210,
   "metadata": {
    "scrolled": true
   },
   "outputs": [
    {
     "name": "stdout",
     "output_type": "stream",
     "text": [
      "0\n",
      "1\n",
      "2\n",
      "3\n",
      "4\n",
      "5\n",
      "6\n",
      "7\n",
      "8\n",
      "9\n"
     ]
    }
   ],
   "source": [
    "for i in range(10):\n",
    "    print(i)"
   ]
  },
  {
   "cell_type": "code",
   "execution_count": 65,
   "metadata": {},
   "outputs": [
    {
     "name": "stdout",
     "output_type": "stream",
     "text": [
      "code\n",
      "256\n"
     ]
    }
   ],
   "source": [
    "def cube(num):\n",
    "    return num**num #return will get the info back to the function\n",
    "print('code')\n",
    "result=cube(4)\n",
    "print(result)"
   ]
  },
  {
   "cell_type": "code",
   "execution_count": 89,
   "metadata": {},
   "outputs": [
    {
     "name": "stdout",
     "output_type": "stream",
     "text": [
      "even\n",
      "odd\n"
     ]
    }
   ],
   "source": [
    "def evenorodd(x):\n",
    "    if (x % 2 == 0):\n",
    "        print('even')\n",
    "    else:\n",
    "        print('odd')\n",
    "evenorodd(2)\n",
    "evenorodd(3)"
   ]
  },
  {
   "cell_type": "code",
   "execution_count": 260,
   "metadata": {},
   "outputs": [
    {
     "name": "stdout",
     "output_type": "stream",
     "text": [
      "1\n",
      "3\n",
      "5\n",
      "6\n",
      "7\n",
      "8\n"
     ]
    }
   ],
   "source": [
    "a=[1,3,5,6,7,8]\n",
    "for x in range(len(a)):\n",
    "    print( a[x],)"
   ]
  },
  {
   "cell_type": "code",
   "execution_count": 264,
   "metadata": {},
   "outputs": [
    {
     "name": "stdout",
     "output_type": "stream",
     "text": [
      "('H', 'W', 't', 'G')\n",
      "\n",
      "\n",
      "('e', 'e', 'o', 'e')\n",
      "\n",
      "\n"
     ]
    }
   ],
   "source": [
    "# Python program to illustrate   \n",
    "# *args for variable number of arguments \n",
    "def myFun(*argv):  \n",
    "    for arg in *argv):  \n",
    "        print (arg) \n",
    "        print('\\n')\n",
    "myFun('Hello', 'Welcome', 'to', 'GeeksforGeeks')"
   ]
  },
  {
   "cell_type": "code",
   "execution_count": 240,
   "metadata": {},
   "outputs": [
    {
     "name": "stdout",
     "output_type": "stream",
     "text": [
      "madan\n",
      "madan\n",
      "madan\n",
      "madan\n",
      "madan\n",
      "madan\n",
      "madan\n",
      "madan\n",
      "madan\n",
      "madan\n",
      "\n"
     ]
    }
   ],
   "source": [
    "print(\"madan\\n\"*10)\n"
   ]
  },
  {
   "cell_type": "code",
   "execution_count": 125,
   "metadata": {},
   "outputs": [
    {
     "name": "stdout",
     "output_type": "stream",
     "text": [
      "function1\n",
      "function2\n",
      "function1\n"
     ]
    }
   ],
   "source": [
    "def fun1():\n",
    "    print('function1')\n",
    "def fun2():\n",
    "    fun1()\n",
    "    print(\"function2\")\n",
    "fun2()\n",
    "fun1()"
   ]
  },
  {
   "cell_type": "code",
   "execution_count": 132,
   "metadata": {},
   "outputs": [
    {
     "name": "stdout",
     "output_type": "stream",
     "text": [
      "iam mul\n",
      "iam sub\n",
      "iam adding\n",
      "iam mul\n",
      "iam sub\n"
     ]
    }
   ],
   "source": [
    "def add():\n",
    "    print(\"iam adding\")\n",
    "    sub()\n",
    "def mul():\n",
    "    print(\"iam mul\")\n",
    "def sub():\n",
    "    mul()\n",
    "    print(\"iam sub\")\n",
    "sub()\n",
    "add()"
   ]
  },
  {
   "cell_type": "markdown",
   "metadata": {},
   "source": [
    "## Local Variable: \n",
    "- the variable which is declare inside the function body is called local variable.\n",
    "- we cannot use the local variable outside the function body"
   ]
  },
  {
   "cell_type": "code",
   "execution_count": 135,
   "metadata": {},
   "outputs": [
    {
     "name": "stdout",
     "output_type": "stream",
     "text": [
      "sum: 30\n"
     ]
    }
   ],
   "source": [
    "# Local Variable: the variable which is declare inside the function body is called local variable.\n",
    "#we cannot use the local variable outside the function body\n",
    "def add():\n",
    "    a=10\n",
    "    b=20\n",
    "    print(\"sum:\",a+b)\n",
    "add()"
   ]
  },
  {
   "cell_type": "code",
   "execution_count": 138,
   "metadata": {},
   "outputs": [
    {
     "name": "stdout",
     "output_type": "stream",
     "text": [
      "sum= 110\n",
      "sub= 130\n",
      "sub= 130\n"
     ]
    }
   ],
   "source": [
    "#local variable\n",
    "def add():\n",
    "    a=50\n",
    "    b=60\n",
    "    print(\"sum=\",a+b)\n",
    "    sub()\n",
    "def sub():\n",
    "    a=150\n",
    "    b=20\n",
    "    print(\"sub=\",a-b)\n",
    "add()\n",
    "sub()"
   ]
  },
  {
   "cell_type": "code",
   "execution_count": 139,
   "metadata": {},
   "outputs": [
    {
     "name": "stdout",
     "output_type": "stream",
     "text": [
      "7\n",
      "4\n"
     ]
    }
   ],
   "source": [
    "def rock(x,y):\n",
    "    a=x+y\n",
    "    print(a)\n",
    "    \n",
    "rock(2,5)\n",
    "rock(2,2)"
   ]
  },
  {
   "cell_type": "markdown",
   "metadata": {},
   "source": [
    "## Global variable:\n",
    "- a variable which is declared outside the function called global variable\n",
    "- the global variables will get memory when program start loading"
   ]
  },
  {
   "cell_type": "code",
   "execution_count": 4,
   "metadata": {},
   "outputs": [
    {
     "name": "stdout",
     "output_type": "stream",
     "text": [
      "100\n",
      "madan\n",
      "100\n",
      "madan\n"
     ]
    }
   ],
   "source": [
    "#Global variable\n",
    "a=100\n",
    "b=\"madan\"\n",
    "def one():\n",
    "    print(a)\n",
    "    print(b)\n",
    "def two():\n",
    "    print(a) \n",
    "    print(b)\n",
    "one()\n",
    "two()"
   ]
  },
  {
   "cell_type": "code",
   "execution_count": 5,
   "metadata": {},
   "outputs": [
    {
     "name": "stdout",
     "output_type": "stream",
     "text": [
      "100\n",
      "100\n",
      "1102\n",
      "100\n",
      "20\n",
      "100\n"
     ]
    }
   ],
   "source": [
    "#we cannot modify global variable value directly inside a funcion\n",
    "a=100\n",
    "def one():\n",
    "    print(a)\n",
    "    print(a+1002)\n",
    "def two():\n",
    "    a=20\n",
    "    print(a)\n",
    "print(a)\n",
    "one()\n",
    "print(a)\n",
    "two()\n",
    "print(a)"
   ]
  },
  {
   "cell_type": "markdown",
   "metadata": {},
   "source": []
  },
  {
   "cell_type": "code",
   "execution_count": 29,
   "metadata": {},
   "outputs": [
    {
     "name": "stdout",
     "output_type": "stream",
     "text": [
      "100\n",
      "100\n",
      "sathya\n"
     ]
    }
   ],
   "source": [
    "a=100\n",
    "def display():\n",
    "    global a\n",
    "    a=\"sathya\"\n",
    "    print(a)\n",
    "print(a)\n",
    "print(a)\n",
    "display()"
   ]
  },
  {
   "cell_type": "code",
   "execution_count": 32,
   "metadata": {
    "scrolled": true
   },
   "outputs": [
    {
     "name": "stdout",
     "output_type": "stream",
     "text": [
      "500\n",
      "500 10 21\n",
      "115\n",
      "21\n",
      "21\n",
      "167\n",
      "90 25 21\n",
      "21\n",
      "167\n",
      "90 25 21\n",
      "113\n",
      "90 python world 23\n"
     ]
    }
   ],
   "source": [
    "a=500\n",
    "print(a)\n",
    "def one():\n",
    "    print(c)\n",
    "    e=56\n",
    "    print(c+a+e)\n",
    "def two():\n",
    "    global a,b\n",
    "    a=90\n",
    "    b=25\n",
    "    print(a+b)\n",
    "    print(c)\n",
    "    one()\n",
    "def three():\n",
    "    global c\n",
    "    c=23\n",
    "    print(c+a)\n",
    "    global b\n",
    "    b='python world'\n",
    "b=10\n",
    "c=21\n",
    "print(a,b,c)\n",
    "two()\n",
    "print(a,b,c)\n",
    "one()\n",
    "print(a,b,c)\n",
    "three()\n",
    "print(a,b,c)"
   ]
  },
  {
   "cell_type": "markdown",
   "metadata": {},
   "source": [
    "## parameter or argument\n",
    "- the variable which are declare inside the function header and with in the paranthesis are called parameters (or) arguments\n",
    "- the scope of the parameter is throughout the function body\n",
    "  - req arguments\n",
    "  - default arguments\n",
    "  - argument length\n",
    "  - keyword arg's"
   ]
  },
  {
   "cell_type": "markdown",
   "metadata": {},
   "source": [
    "### req argument\n",
    "- if a function contains reqired arguments. it is mandatory to pass value at function calling time\n",
    "- else we get syntax error"
   ]
  },
  {
   "cell_type": "code",
   "execution_count": 33,
   "metadata": {},
   "outputs": [
    {
     "name": "stdout",
     "output_type": "stream",
     "text": [
      "10\n",
      "20\n",
      "30\n"
     ]
    }
   ],
   "source": [
    "def abc(a,b):\n",
    "    print(a)\n",
    "    print(b)\n",
    "    print(a+b)\n",
    "abc(10,20)"
   ]
  },
  {
   "cell_type": "code",
   "execution_count": 37,
   "metadata": {},
   "outputs": [
    {
     "name": "stdout",
     "output_type": "stream",
     "text": [
      "10\n",
      "20\n",
      "30\n",
      "--------\n",
      "10\n",
      "20.2\n",
      "30.2\n",
      "--------\n",
      "madan\n",
      "sai\n",
      "madansai\n",
      "--------\n",
      "True\n",
      "False\n",
      "1\n"
     ]
    }
   ],
   "source": [
    "def abc(a,b):\n",
    "    print(a)\n",
    "    print(b)\n",
    "    print(a+b)\n",
    "abc(10,20)\n",
    "print(\"--------\")\n",
    "abc(10,20.2)\n",
    "print(\"--------\")\n",
    "abc(\"madan\",\"sai\")\n",
    "print(\"--------\")\n",
    "abc(True,False)"
   ]
  },
  {
   "cell_type": "code",
   "execution_count": 40,
   "metadata": {},
   "outputs": [
    {
     "name": "stdout",
     "output_type": "stream",
     "text": [
      "10\n",
      "20\n",
      "30\n",
      "deepthi\n",
      "good\n",
      "deepthigood\n"
     ]
    }
   ],
   "source": [
    "def xyz(m,n):\n",
    "    print(m)\n",
    "    print(n)\n",
    "    print(m+n)\n",
    "def pqr(o,p):\n",
    "    print(o)\n",
    "    print(p)\n",
    "    print(o+p)\n",
    "xyz(10,20)\n",
    "pqr(\"deepthi\",\"good\")"
   ]
  },
  {
   "cell_type": "markdown",
   "metadata": {},
   "source": [
    "### default arguments\n",
    "-  Default values indicate that the function argument will take that value if no argument value is passed during function call.\n",
    "- Default arguments in Python. Python allows function arguments to have default values. \n",
    "- If the function is called without the argument, the argument gets its default value. \n"
   ]
  },
  {
   "cell_type": "code",
   "execution_count": 43,
   "metadata": {},
   "outputs": [
    {
     "name": "stdout",
     "output_type": "stream",
     "text": [
      "employee idno= 0\n",
      "employee name= None\n",
      "employee sal= 11110.0\n",
      "--------\n",
      "employee idno= 101\n",
      "employee name= None\n",
      "employee sal= 11110.0\n",
      "--------\n",
      "employee idno= ravi\n",
      "employee name= 101\n",
      "employee sal= 11110.0\n",
      "---------\n",
      "employee idno= 101\n",
      "employee name= ravi\n",
      "employee sal= 185000.0\n"
     ]
    }
   ],
   "source": [
    "def display(idno=0,name=None,salary=11110.0):\n",
    "    print(\"employee idno=\",idno)\n",
    "    print(\"employee name=\",name)\n",
    "    print(\"employee sal=\",salary)\n",
    "display()\n",
    "print(\"--------\")\n",
    "display(101)\n",
    "print(\"--------\")\n",
    "display(\"ravi\",'101')\n",
    "print(\"---------\")\n",
    "display(name='ravi',salary=185000.00,idno=101)"
   ]
  },
  {
   "cell_type": "code",
   "execution_count": 56,
   "metadata": {},
   "outputs": [
    {
     "name": "stdout",
     "output_type": "stream",
     "text": [
      "name= \n",
      "age= 10\n",
      "salary= 0.99\n",
      "name= madan\n",
      "age= 21\n",
      "salary= 35.0\n"
     ]
    }
   ],
   "source": [
    "def disp(name='',age=10,sal=0.99):\n",
    "    print(\"name=\",name)\n",
    "    print(\"age=\",age)\n",
    "    print(\"salary=\",sal)\n",
    "disp()\n",
    "disp('madan',21,35.000)"
   ]
  },
  {
   "cell_type": "code",
   "execution_count": 67,
   "metadata": {},
   "outputs": [
    {
     "name": "stdout",
     "output_type": "stream",
     "text": [
      "name= madan\n",
      "salary= 35.0\n"
     ]
    }
   ],
   "source": [
    "def disp(name='sai',age=10,sal=0.99):\n",
    "    print(\"name=\",name)\n",
    "    #print(\"age=\",age)\n",
    "    print(\"salary=\",sal)\n",
    "\n",
    "disp('madan',  21,  35.000)"
   ]
  },
  {
   "cell_type": "markdown",
   "metadata": {},
   "source": [
    "### REQ and default arguments\n",
    "- a function defination first parameter must be require ,then after default parameters else you get syntax error"
   ]
  },
  {
   "cell_type": "code",
   "execution_count": 69,
   "metadata": {},
   "outputs": [
    {
     "ename": "SyntaxError",
     "evalue": "non-default argument follows default argument (<ipython-input-69-25da74eee703>, line 1)",
     "output_type": "error",
     "traceback": [
      "\u001b[0;36m  File \u001b[0;32m\"<ipython-input-69-25da74eee703>\"\u001b[0;36m, line \u001b[0;32m1\u001b[0m\n\u001b[0;31m    def displ(idno=0,name):\u001b[0m\n\u001b[0m             ^\u001b[0m\n\u001b[0;31mSyntaxError\u001b[0m\u001b[0;31m:\u001b[0m non-default argument follows default argument\n"
     ]
    }
   ],
   "source": [
    "def displ(idno=0,name):\n",
    "    print(\"idnum=\",idno)\n",
    "    print(\"name=\",name)\n",
    "display(\"ravi\")#here we get error because parameter must follow order"
   ]
  },
  {
   "cell_type": "code",
   "execution_count": 80,
   "metadata": {},
   "outputs": [
    {
     "name": "stdout",
     "output_type": "stream",
     "text": [
      "idnum= 20\n",
      "name= mad\n"
     ]
    }
   ],
   "source": [
    "def displ(idno=0,name=None):\n",
    "    print(\"idnum=\",idno)\n",
    "    print(\"name=\",name)\n",
    "displ(idno=20,name='mad')"
   ]
  },
  {
   "cell_type": "code",
   "execution_count": 82,
   "metadata": {},
   "outputs": [
    {
     "name": "stdout",
     "output_type": "stream",
     "text": [
      "idnum= 101\n",
      "name= None\n",
      "--------\n",
      "idnum= 102\n",
      "name= ravi\n"
     ]
    }
   ],
   "source": [
    "def displ(idno=0,name=None):\n",
    "    print(\"idnum=\",idno)\n",
    "    print(\"name=\",name)\n",
    "displ(101)\n",
    "print(\"--------\")\n",
    "displ(idno=102,name='ravi')"
   ]
  },
  {
   "cell_type": "code",
   "execution_count": 84,
   "metadata": {},
   "outputs": [
    {
     "name": "stdout",
     "output_type": "stream",
     "text": [
      "100 200\n",
      "10 20\n"
     ]
    }
   ],
   "source": [
    "def fun1(x=100,y=200):\n",
    "    print(x,y)\n",
    "    x=10\n",
    "    y=20\n",
    "    print(x,y)\n",
    "fun1()"
   ]
  },
  {
   "cell_type": "code",
   "execution_count": 104,
   "metadata": {},
   "outputs": [
    {
     "name": "stdout",
     "output_type": "stream",
     "text": [
      "Python is awesome.\n"
     ]
    }
   ],
   "source": [
    "def printLine(text):\n",
    "    print(text, 'is awesome.')\n",
    "printLine('Python')"
   ]
  },
  {
   "cell_type": "code",
   "execution_count": 105,
   "metadata": {},
   "outputs": [
    {
     "name": "stdout",
     "output_type": "stream",
     "text": [
      "Python is awesome.\n"
     ]
    }
   ],
   "source": [
    "def printLine(a):\n",
    "    print(a, 'is awesome.')\n",
    "printLine('Python')"
   ]
  },
  {
   "cell_type": "code",
   "execution_count": 107,
   "metadata": {},
   "outputs": [
    {
     "name": "stdout",
     "output_type": "stream",
     "text": [
      "hai sai madan\n"
     ]
    }
   ],
   "source": [
    "def kar(a,b):\n",
    "    print(\"hai\",b,a)\n",
    "kar('madan','sai')"
   ]
  },
  {
   "cell_type": "code",
   "execution_count": 113,
   "metadata": {},
   "outputs": [
    {
     "name": "stdout",
     "output_type": "stream",
     "text": [
      "10\n"
     ]
    }
   ],
   "source": [
    "def Foo(x):\n",
    "    if (x==1):\n",
    "        return 1\n",
    "    else:\n",
    "        return x+Foo(x-1)#4+3+2+1 return it willrepete \n",
    "print(Foo(4))"
   ]
  },
  {
   "cell_type": "code",
   "execution_count": null,
   "metadata": {},
   "outputs": [],
   "source": []
  },
  {
   "cell_type": "code",
   "execution_count": 143,
   "metadata": {},
   "outputs": [
    {
     "name": "stdout",
     "output_type": "stream",
     "text": [
      "madan\n",
      "madan\n",
      "madan\n",
      "madan\n",
      "madan\n",
      "madan\n",
      "madan\n",
      "madan\n",
      "madan\n",
      "madan\n",
      "\n"
     ]
    }
   ],
   "source": [
    "print(\"madan\\n\"*10)"
   ]
  },
  {
   "cell_type": "code",
   "execution_count": 141,
   "metadata": {
    "scrolled": true
   },
   "outputs": [
    {
     "name": "stdout",
     "output_type": "stream",
     "text": [
      "['False', 'None', 'True', 'and', 'as', 'assert', 'async', 'await', 'break', 'class', 'continue', 'def', 'del', 'elif', 'else', 'except', 'finally', 'for', 'from', 'global', 'if', 'import', 'in', 'is', 'lambda', 'nonlocal', 'not', 'or', 'pass', 'raise', 'return', 'try', 'while', 'with', 'yield']\n"
     ]
    }
   ],
   "source": [
    "import keyword\n",
    "print(keyword.kwlist)"
   ]
  },
  {
   "cell_type": "code",
   "execution_count": null,
   "metadata": {},
   "outputs": [],
   "source": []
  },
  {
   "cell_type": "markdown",
   "metadata": {},
   "source": [
    "# Use of Lambda Function in python\n",
    "- We use lambda functions when we require a nameless function for a short period of time.\n",
    "\n",
    "- In Python, we generally use it as an argument to a higher-order function (a function that takes in other functions as arguments). Lambda functions are used along with built-in functions like filter(), map() etc."
   ]
  },
  {
   "cell_type": "code",
   "execution_count": 90,
   "metadata": {},
   "outputs": [
    {
     "name": "stdout",
     "output_type": "stream",
     "text": [
      "4\n"
     ]
    }
   ],
   "source": [
    "sai = lambda x: x*x\n",
    "print(sai(2))"
   ]
  },
  {
   "cell_type": "code",
   "execution_count": 117,
   "metadata": {},
   "outputs": [
    {
     "name": "stdout",
     "output_type": "stream",
     "text": [
      "[4, 6, 8, 12]\n"
     ]
    }
   ],
   "source": [
    "# Program to filter out only the even items from a list\n",
    "\n",
    "my_list = [1, 5, 4, 6, 8, 11, 3, 12]\n",
    "\n",
    "new_list = list(filter(lambda x: (x%2 == 0) , my_list))\n",
    "\n",
    "print(new_list)"
   ]
  },
  {
   "cell_type": "code",
   "execution_count": 118,
   "metadata": {},
   "outputs": [
    {
     "name": "stdout",
     "output_type": "stream",
     "text": [
      "[2, 10, 8, 12, 16, 22, 6, 24]\n"
     ]
    }
   ],
   "source": [
    "# Program to double each item in a list using map()\n",
    "\n",
    "my_list = [1, 5, 4, 6, 8, 11, 3, 12]\n",
    "\n",
    "new_list = list(map(lambda x: x * 2 , my_list))\n",
    "\n",
    "# Output: [2, 10, 8, 12, 16, 22, 6, 24]\n",
    "print(new_list)"
   ]
  }
 ],
 "metadata": {
  "kernelspec": {
   "display_name": "Python 3",
   "language": "python",
   "name": "python3"
  },
  "language_info": {
   "codemirror_mode": {
    "name": "ipython",
    "version": 3
   },
   "file_extension": ".py",
   "mimetype": "text/x-python",
   "name": "python",
   "nbconvert_exporter": "python",
   "pygments_lexer": "ipython3",
   "version": "3.7.4"
  }
 },
 "nbformat": 4,
 "nbformat_minor": 2
}
